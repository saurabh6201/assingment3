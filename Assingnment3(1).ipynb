{
 "cells": [
  {
   "cell_type": "markdown",
   "id": "e6e46bca-34fd-409a-9952-80db1eccebc2",
   "metadata": {},
   "source": [
    "                                                         TEORYTICAL QESTIONS    "
   ]
  },
  {
   "cell_type": "code",
   "execution_count": 271,
   "id": "fc3fff44-a5ca-4557-a12d-cfb45fc52fb4",
   "metadata": {},
   "outputs": [],
   "source": [
    "#Q.1> What is the difference between a function and a method in Python?\n",
    "#ANS> A function is a block of code that is designed to perform a specific task and can be called independently\n",
    "#      method is a function that is associated with an object or class. Methods are defined inside a class "
   ]
  },
  {
   "cell_type": "code",
   "execution_count": 3,
   "id": "e78c27f6-42f1-4f7e-9de7-e74e35444739",
   "metadata": {},
   "outputs": [],
   "source": [
    "#Q.2> Explain the concept of function arguments and parameters in Python.\n",
    "#ANS> when we define a function we set the parameters around the function and arguement is need when we call the function"
   ]
  },
  {
   "cell_type": "code",
   "execution_count": 5,
   "id": "ed5706ce-3c7e-4167-93ba-6c25cde8d46c",
   "metadata": {},
   "outputs": [],
   "source": [
    "#Q.3> What are the different ways to define and call a function in Python\n",
    "#ANS> In Python, there are a few different ways to define and call functions like define by\n",
    "#        with or without parameters and arguements\n",
    "#      with return statement and print statement\n",
    "#       with lambda functions"
   ]
  },
  {
   "cell_type": "code",
   "execution_count": 7,
   "id": "f38ad46e-4266-43cf-bd66-1313bbf389fb",
   "metadata": {},
   "outputs": [],
   "source": [
    "#Q.4> What is the purpose of the `return` statement in a Python function?\n",
    "#ANS> return statement give us only returned value in a single time when we call"
   ]
  },
  {
   "cell_type": "code",
   "execution_count": 9,
   "id": "e21be5c9-3ef4-4759-a13b-af6ae876e321",
   "metadata": {},
   "outputs": [],
   "source": [
    "#Q.5> What are iterators in Python and how do they differ from iterables?\n",
    "#ANS> iterator is an object allow to process travers through a seqence of data without storing the entire data in memory\n",
    "#     but iterable is  any python obect/sequential str/data structure that is capble of returing  its member one at a time"
   ]
  },
  {
   "cell_type": "code",
   "execution_count": 11,
   "id": "9fff661e-49bf-4f20-b94c-3b0ab273c59c",
   "metadata": {},
   "outputs": [],
   "source": [
    "#Q.6> Explain the concept of generators in Python and how they are defined\n",
    "#ANS> generator is a application of iterator/simple way of executing iterator\n",
    "#     is a function when called gives generator object\n",
    "#     generators are define by a parameter also and it have 'yeild' isted of 'return' call by 'next' of parameters"
   ]
  },
  {
   "cell_type": "code",
   "execution_count": 13,
   "id": "7676b536-e1e6-42bf-aa06-6cb642408ce8",
   "metadata": {},
   "outputs": [],
   "source": [
    "#Q.7> What are the advantages of using generators over regular functions?\n",
    "#ANS>in generator object iterate over on element it execute without storing entire data in memory,\n",
    "#      when we execute/computation on big data it helps us to avoid to crash the whole program\n",
    "#     if we increase the size by a big no,the computation time and also the memory taken will be high in regular function"
   ]
  },
  {
   "cell_type": "code",
   "execution_count": 15,
   "id": "2c14e03b-aca6-4f12-8aef-66c5bd0d42e6",
   "metadata": {},
   "outputs": [],
   "source": [
    "#Q.8> What is a lambda function in Python and when is it typically used ?\n",
    "#ANS> lambda function is a short hand function we write a lambda function in a single line of code \n",
    "#     lambda function used for saving our time"
   ]
  },
  {
   "cell_type": "code",
   "execution_count": 269,
   "id": "f63f42c3-145c-404f-afaf-53051cbf96a8",
   "metadata": {},
   "outputs": [],
   "source": [
    "#Q.9> Explain the purpose and usage of the `map()` function in Python.\n",
    "#ANS> map is used for executes a specified function for each of item of an iterable"
   ]
  },
  {
   "cell_type": "code",
   "execution_count": null,
   "id": "4d9c5bb0-4d22-45fc-8fa4-5dccbddb7468",
   "metadata": {},
   "outputs": [],
   "source": [
    "#Q.10> What is the difference between `map()`, `reduce()`, and `filter()` functions in Python?\n",
    "#ANS> in python,map() is used for  executes a specified function for each of item of an iterable\n",
    "#      reduce() is used for computation in a single line of code of a list/iterable\n",
    "#      filter is used for take out the filterd  data from a list/iterable wich recuried  "
   ]
  },
  {
   "cell_type": "code",
   "execution_count": null,
   "id": "044ddcc0-7039-456b-868d-0959369ff09c",
   "metadata": {},
   "outputs": [],
   "source": [
    "#Q.11> . Using pen & Paper write the internal mechanism for sum operation using  reduce function on this given \n",
    "#         list:[47,11,42,13];"
   ]
  },
  {
   "cell_type": "markdown",
   "id": "f675bf0c-f1e4-4b0e-88ab-a01aa328ef29",
   "metadata": {},
   "source": [
    "                                                         PRACTICAL QUESTIONS"
   ]
  },
  {
   "cell_type": "code",
   "execution_count": 1,
   "id": "10dc6152-49cd-4cd5-8636-0ee7639af289",
   "metadata": {},
   "outputs": [],
   "source": [
    "#Q.1> Write a Python function that takes a list of numbers as input and returns the sum of all even numbers in the list\n",
    "def sumevn(*n):\n",
    "    num=[]\n",
    "    for i in n:\n",
    "        if i%2==0:\n",
    "            num.append(i)\n",
    "    return sum(num)\n",
    "        "
   ]
  },
  {
   "cell_type": "code",
   "execution_count": 5,
   "id": "268dc47c-909a-43a4-80c2-fae70dab707c",
   "metadata": {},
   "outputs": [
    {
     "data": {
      "text/plain": [
       "26"
      ]
     },
     "execution_count": 5,
     "metadata": {},
     "output_type": "execute_result"
    }
   ],
   "source": [
    "sumevn(2,6,8,3,4,6)"
   ]
  },
  {
   "cell_type": "code",
   "execution_count": 72,
   "id": "3e136811-3469-4f43-ac97-e8420ae58b46",
   "metadata": {},
   "outputs": [
    {
     "data": {
      "text/plain": [
       "'6,5,4,3,2,1'"
      ]
     },
     "execution_count": 72,
     "metadata": {},
     "output_type": "execute_result"
    }
   ],
   "source": [
    "#Q.2> Create a Python function that accepts a string and returns the reverse of that string.\n",
    "def a(name):\n",
    "    return(name[::-1])\n",
    "a(\"1,2,3,4,5,6\")"
   ]
  },
  {
   "cell_type": "code",
   "execution_count": 32,
   "id": "9844e144-6fe8-48cd-9e3d-bc2c1e953f74",
   "metadata": {},
   "outputs": [
    {
     "data": {
      "text/plain": [
       "[1, 4, 9, 36]"
      ]
     },
     "execution_count": 32,
     "metadata": {},
     "output_type": "execute_result"
    }
   ],
   "source": [
    "#Q.3> Implement a Python function that takes a list of integers and returns a new list containing the squares of each number\n",
    "def square_no (*n):\n",
    "    result=[]\n",
    "    for i in (n):\n",
    "        result.append(i**2)\n",
    "    return result\n",
    "square_no(1,2,3,6)"
   ]
  },
  {
   "cell_type": "code",
   "execution_count": 171,
   "id": "f3c896a9-23a5-4449-8ff1-8336cdfcb590",
   "metadata": {},
   "outputs": [
    {
     "name": "stdout",
     "output_type": "stream",
     "text": [
      "2\n",
      "3\n",
      "5\n",
      "7\n",
      "11\n",
      "13\n",
      "17\n",
      "19\n",
      "23\n",
      "29\n",
      "31\n",
      "37\n",
      "41\n",
      "43\n",
      "47\n",
      "53\n",
      "59\n",
      "61\n",
      "67\n",
      "71\n",
      "73\n",
      "79\n",
      "83\n",
      "89\n",
      "97\n",
      "101\n",
      "103\n",
      "107\n",
      "109\n",
      "113\n",
      "127\n",
      "131\n",
      "137\n",
      "139\n",
      "149\n",
      "151\n",
      "157\n",
      "163\n",
      "167\n",
      "173\n",
      "179\n",
      "181\n",
      "191\n",
      "193\n",
      "197\n",
      "199\n"
     ]
    }
   ],
   "source": [
    "#Q.4> Write a Python function that checks if a given number is prime or not from 1 to 200\n",
    "def is_prime(num):\n",
    "    if num <= 1 or num > 200:\n",
    "        return False\n",
    "    for i in range(2, int(num ** 0.5) + 1):\n",
    "        if num % i == 0:\n",
    "            return False\n",
    "    return True\n",
    "\n",
    "# Test the function\n",
    "for num in range(1,200):\n",
    "    if is_prime(num):\n",
    "        print(num)             "
   ]
  },
  {
   "cell_type": "code",
   "execution_count": 131,
   "id": "80f0e60a-40e9-4d7e-8def-47c141cd2dd7",
   "metadata": {},
   "outputs": [],
   "source": [
    "#Q.5> Create an iterator class in Python that generates the Fibonacci sequence up to a specified number of terms\n",
    "def it(n):    \n",
    "    a=0\n",
    "    b=1\n",
    "    for i in range(n):\n",
    "        yield a\n",
    "        a,b = b, a+b\n",
    "        "
   ]
  },
  {
   "cell_type": "code",
   "execution_count": 133,
   "id": "4cf97d2e-c895-40c2-b268-a3bea660aa3f",
   "metadata": {},
   "outputs": [
    {
     "data": {
      "text/plain": [
       "0"
      ]
     },
     "execution_count": 133,
     "metadata": {},
     "output_type": "execute_result"
    }
   ],
   "source": [
    "f=it(10)\n",
    "next(f)"
   ]
  },
  {
   "cell_type": "code",
   "execution_count": 135,
   "id": "16d48f52-4b38-452b-a859-551655e507f0",
   "metadata": {},
   "outputs": [
    {
     "data": {
      "text/plain": [
       "1"
      ]
     },
     "execution_count": 135,
     "metadata": {},
     "output_type": "execute_result"
    }
   ],
   "source": [
    "next(f)"
   ]
  },
  {
   "cell_type": "code",
   "execution_count": 137,
   "id": "20cc5652-3bc6-4070-9d54-3c55af600630",
   "metadata": {},
   "outputs": [
    {
     "data": {
      "text/plain": [
       "1"
      ]
     },
     "execution_count": 137,
     "metadata": {},
     "output_type": "execute_result"
    }
   ],
   "source": [
    "next(f)"
   ]
  },
  {
   "cell_type": "code",
   "execution_count": 139,
   "id": "642e661b-eeb9-4fea-90e4-860a9fb26177",
   "metadata": {},
   "outputs": [
    {
     "data": {
      "text/plain": [
       "2"
      ]
     },
     "execution_count": 139,
     "metadata": {},
     "output_type": "execute_result"
    }
   ],
   "source": [
    "next(f)"
   ]
  },
  {
   "cell_type": "code",
   "execution_count": 52,
   "id": "a56720b7-618f-46b7-b95c-b4091f8ea5bf",
   "metadata": {},
   "outputs": [
    {
     "data": {
      "text/plain": [
       "0"
      ]
     },
     "execution_count": 52,
     "metadata": {},
     "output_type": "execute_result"
    }
   ],
   "source": [
    "#Q.6> Write a generator function in Python that yields the powers of 2 up to a given exponent.\n",
    "def square_no (n):\n",
    "    for i in range (n):\n",
    "        yield i**2\n",
    "b=square_no (5)\n",
    "next(b)"
   ]
  },
  {
   "cell_type": "code",
   "execution_count": 56,
   "id": "d5b42bd8-2263-44c8-975d-fc2a76681301",
   "metadata": {},
   "outputs": [
    {
     "data": {
      "text/plain": [
       "4"
      ]
     },
     "execution_count": 56,
     "metadata": {},
     "output_type": "execute_result"
    }
   ],
   "source": [
    "next(b)"
   ]
  },
  {
   "cell_type": "code",
   "execution_count": 54,
   "id": "2c4fea8c-542f-450c-bf45-4608a2306bfc",
   "metadata": {},
   "outputs": [
    {
     "data": {
      "text/plain": [
       "1"
      ]
     },
     "execution_count": 54,
     "metadata": {},
     "output_type": "execute_result"
    }
   ],
   "source": [
    "next(b)"
   ]
  },
  {
   "cell_type": "code",
   "execution_count": 58,
   "id": "9a901e9b-c978-4eaf-aa02-1b55621bd6c5",
   "metadata": {},
   "outputs": [
    {
     "data": {
      "text/plain": [
       "9"
      ]
     },
     "execution_count": 58,
     "metadata": {},
     "output_type": "execute_result"
    }
   ],
   "source": [
    "next(b)"
   ]
  },
  {
   "cell_type": "code",
   "execution_count": 30,
   "id": "bd5c0607-ed87-439a-ba44-a5f8c0a608b0",
   "metadata": {},
   "outputs": [],
   "source": [
    "#Q.7> Implement a generator function that reads a file line by line and yields each line as a string\n"
   ]
  },
  {
   "cell_type": "code",
   "execution_count": 267,
   "id": "e01bd7d0-0a17-4716-b408-9d4c0c6c675f",
   "metadata": {},
   "outputs": [
    {
     "data": {
      "text/plain": [
       "[(2, 4, 6), (4, 5, 2), (1, 13, 6), (3, 23, 5)]"
      ]
     },
     "execution_count": 267,
     "metadata": {},
     "output_type": "execute_result"
    }
   ],
   "source": [
    "#Q.8> Use a lambda function in Python to sort a list of tuples based on the second element of each.\n",
    "lis = [(1,13,6),(4,5,2),(3,23,5),(2,4,6)]\n",
    "sort=sorted(lis,key=lambda x: x[1])\n",
    "sort"
   ]
  },
  {
   "cell_type": "code",
   "execution_count": 50,
   "id": "08f70ce8-2ee1-47fe-afad-eb4b138a49bf",
   "metadata": {},
   "outputs": [
    {
     "data": {
      "text/plain": [
       "[32.0, 33.8, 35.6, 37.4, 50.0, 86.0, 140.0]"
      ]
     },
     "execution_count": 50,
     "metadata": {},
     "output_type": "execute_result"
    }
   ],
   "source": [
    "#Q>9> Write a Python program that uses `map()` to convert a list of temperatures from Celsius to Fahrenheit\n",
    "l=[0,1,2,3,10,30,60]\n",
    "def c2f(x):\n",
    "    return (x*9/5) + 32\n",
    "list(map(c2f,l))"
   ]
  },
  {
   "cell_type": "code",
   "execution_count": 185,
   "id": "7b14ad77-4b37-4953-8f51-c10b4b6a9c20",
   "metadata": {},
   "outputs": [],
   "source": [
    "#Q.10> Create a Python program that uses `filter()` to remove all the vowels from a given string.\n",
    "def remove_vowels(input_string):\n",
    "    vowels = \"aeiouAEIOU\"\n",
    "    # Use filter to remove vowels from the string\n",
    "    result = \"\".join(filter(lambda x: x not in vowels, input_string))\n",
    "    return result      "
   ]
  },
  {
   "cell_type": "code",
   "execution_count": 187,
   "id": "92eaaa4d-e0cd-4061-863d-6eba253182b4",
   "metadata": {},
   "outputs": [
    {
     "data": {
      "text/plain": [
       "'hll wrld'"
      ]
     },
     "execution_count": 187,
     "metadata": {},
     "output_type": "execute_result"
    }
   ],
   "source": [
    "remove_vowels(\"hello world\")"
   ]
  }
 ],
 "metadata": {
  "kernelspec": {
   "display_name": "Python 3 (ipykernel)",
   "language": "python",
   "name": "python3"
  },
  "language_info": {
   "codemirror_mode": {
    "name": "ipython",
    "version": 3
   },
   "file_extension": ".py",
   "mimetype": "text/x-python",
   "name": "python",
   "nbconvert_exporter": "python",
   "pygments_lexer": "ipython3",
   "version": "3.12.7"
  }
 },
 "nbformat": 4,
 "nbformat_minor": 5
}
